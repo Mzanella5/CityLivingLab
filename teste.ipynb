{
 "cells": [
  {
   "cell_type": "code",
   "execution_count": 17,
   "metadata": {},
   "outputs": [],
   "source": [
    "import numpy as np\n",
    "import pandas as pd\n",
    "import matplotlib.pyplot as plt\n",
    "import json\n",
    "import html5lib"
   ]
  },
  {
   "cell_type": "code",
   "execution_count": 24,
   "metadata": {},
   "outputs": [
    {
     "data": {
      "text/html": [
       "<div>\n",
       "<style scoped>\n",
       "    .dataframe tbody tr th:only-of-type {\n",
       "        vertical-align: middle;\n",
       "    }\n",
       "\n",
       "    .dataframe tbody tr th {\n",
       "        vertical-align: top;\n",
       "    }\n",
       "\n",
       "    .dataframe thead th {\n",
       "        text-align: right;\n",
       "    }\n",
       "</style>\n",
       "<table border=\"1\" class=\"dataframe\">\n",
       "  <thead>\n",
       "    <tr style=\"text-align: right;\">\n",
       "      <th></th>\n",
       "      <th>Cargo</th>\n",
       "      <th>Servidores</th>\n",
       "      <th>Salário Base</th>\n",
       "      <th>Vencimentos Totais</th>\n",
       "      <th>Descontos</th>\n",
       "      <th>Líquido</th>\n",
       "    </tr>\n",
       "  </thead>\n",
       "  <tbody>\n",
       "    <tr>\n",
       "      <th>19</th>\n",
       "      <td>Diretor D. E. e Projetos</td>\n",
       "      <td>1.0</td>\n",
       "      <td>R$ 4.134,79</td>\n",
       "      <td>R$ 4.504,91</td>\n",
       "      <td>R$ 655,45</td>\n",
       "      <td>R$ 3.849,46</td>\n",
       "    </tr>\n",
       "    <tr>\n",
       "      <th>16</th>\n",
       "      <td>Conselheiro Tutelar</td>\n",
       "      <td>5.0</td>\n",
       "      <td>R$ 7.012,55</td>\n",
       "      <td>R$ 8.960,53</td>\n",
       "      <td>R$ 1.216,72</td>\n",
       "      <td>R$ 7.743,81</td>\n",
       "    </tr>\n",
       "    <tr>\n",
       "      <th>28</th>\n",
       "      <td>Engenheiro Civil</td>\n",
       "      <td>1.0</td>\n",
       "      <td>R$ 4.612,83</td>\n",
       "      <td>R$ 8.563,04</td>\n",
       "      <td>R$ 4.445,97</td>\n",
       "      <td>R$ 4.117,07</td>\n",
       "    </tr>\n",
       "    <tr>\n",
       "      <th>6</th>\n",
       "      <td>Agente de Serviços Gerais</td>\n",
       "      <td>12.0</td>\n",
       "      <td>R$ 19.481,40</td>\n",
       "      <td>R$ 31.644,75</td>\n",
       "      <td>R$ 10.650,76</td>\n",
       "      <td>R$ 20.993,99</td>\n",
       "    </tr>\n",
       "    <tr>\n",
       "      <th>32</th>\n",
       "      <td>Inativo</td>\n",
       "      <td>45.0</td>\n",
       "      <td>R$ 208.735,30</td>\n",
       "      <td>R$ 206.691,72</td>\n",
       "      <td>R$ 33.375,48</td>\n",
       "      <td>R$ 173.316,24</td>\n",
       "    </tr>\n",
       "  </tbody>\n",
       "</table>\n",
       "</div>"
      ],
      "text/plain": [
       "                        Cargo  Servidores   Salário Base Vencimentos Totais  \\\n",
       "19   Diretor D. E. e Projetos         1.0    R$ 4.134,79        R$ 4.504,91   \n",
       "16        Conselheiro Tutelar         5.0    R$ 7.012,55        R$ 8.960,53   \n",
       "28           Engenheiro Civil         1.0    R$ 4.612,83        R$ 8.563,04   \n",
       "6   Agente de Serviços Gerais        12.0   R$ 19.481,40       R$ 31.644,75   \n",
       "32                    Inativo        45.0  R$ 208.735,30      R$ 206.691,72   \n",
       "\n",
       "       Descontos        Líquido  \n",
       "19     R$ 655,45    R$ 3.849,46  \n",
       "16   R$ 1.216,72    R$ 7.743,81  \n",
       "28   R$ 4.445,97    R$ 4.117,07  \n",
       "6   R$ 10.650,76   R$ 20.993,99  \n",
       "32  R$ 33.375,48  R$ 173.316,24  "
      ]
     },
     "execution_count": 24,
     "metadata": {},
     "output_type": "execute_result"
    }
   ],
   "source": [
    "data = pd.read_csv('pessoal.csv', delimiter=\";\", encoding ='latin1')\n",
    "data.sample(5)"
   ]
  },
  {
   "cell_type": "code",
   "execution_count": 6,
   "metadata": {},
   "outputs": [],
   "source": [
    "#data = data.drop(columns=['Descontos'])"
   ]
  },
  {
   "cell_type": "code",
   "execution_count": 22,
   "metadata": {},
   "outputs": [],
   "source": [
    "dic = data.to_dict('records')\n",
    "string = json.dumps(dic, ensure_ascii=False)\n",
    "f = open(\"out.json\", \"w\")\n",
    "f.write(string)\n",
    "f.close()"
   ]
  },
  {
   "cell_type": "code",
   "execution_count": 8,
   "metadata": {},
   "outputs": [
    {
     "data": {
      "text/plain": [
       "[                        Company           Contact  Country\n",
       " 0           Alfreds Futterkiste      Maria Anders  Germany\n",
       " 1    Centro comercial Moctezuma   Francisco Chang   Mexico\n",
       " 2                  Ernst Handel     Roland Mendel  Austria\n",
       " 3                Island Trading     Helen Bennett       UK\n",
       " 4  Laughing Bacchus Winecellars   Yoshi Tannamuri   Canada\n",
       " 5  Magazzini Alimentari Riuniti  Giovanni Rovelli    Italy,\n",
       "           Tag                                        Description\n",
       " 0     <table>                                    Defines a table\n",
       " 1        <th>                   Defines a header cell in a table\n",
       " 2        <tr>                           Defines a row in a table\n",
       " 3        <td>                          Defines a cell in a table\n",
       " 4   <caption>                            Defines a table caption\n",
       " 5  <colgroup>  Specifies a group of one or more columns in a ...\n",
       " 6       <col>  Specifies column properties for each column wi...\n",
       " 7     <thead>               Groups the header content in a table\n",
       " 8     <tbody>                 Groups the body content in a table\n",
       " 9     <tfoot>               Groups the footer content in a table]"
      ]
     },
     "execution_count": 8,
     "metadata": {},
     "output_type": "execute_result"
    }
   ],
   "source": [
    "url = \"https://www.w3schools.com/html/html_tables.asp\"\n",
    "pd.read_html(url)"
   ]
  }
 ],
 "metadata": {
  "interpreter": {
   "hash": "31ac348cb22fe0388bac3c7b35b2499fb5b1f1983b38f902deb577e281368359"
  },
  "kernelspec": {
   "display_name": "Python 3.10.4 64-bit (windows store)",
   "language": "python",
   "name": "python3"
  },
  "language_info": {
   "codemirror_mode": {
    "name": "ipython",
    "version": 3
   },
   "file_extension": ".py",
   "mimetype": "text/x-python",
   "name": "python",
   "nbconvert_exporter": "python",
   "pygments_lexer": "ipython3",
   "version": "3.10.4"
  },
  "orig_nbformat": 4
 },
 "nbformat": 4,
 "nbformat_minor": 2
}
